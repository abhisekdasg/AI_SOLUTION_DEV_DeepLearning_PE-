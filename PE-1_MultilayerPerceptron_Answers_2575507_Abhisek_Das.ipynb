{
 "cells": [
  {
   "cell_type": "markdown",
   "id": "c9ec3166",
   "metadata": {},
   "source": [
    "# Implement a multilayer perceptron - practice Assignments"
   ]
  },
  {
   "cell_type": "code",
   "execution_count": 4,
   "id": "519402c9",
   "metadata": {},
   "outputs": [],
   "source": [
    "import numpy as np\n",
    "import sys"
   ]
  },
  {
   "cell_type": "markdown",
   "id": "72ca6827",
   "metadata": {},
   "source": [
    "# Create a class - NeuralNetwork (for multilayer perceptron)"
   ]
  },
  {
   "cell_type": "code",
   "execution_count": 5,
   "id": "88a4b86e",
   "metadata": {},
   "outputs": [],
   "source": [
    "class NeuralNetwork():\n",
    "    def __init__(self):\n",
    "        # Seed the random number generator\n",
    "        np.random.seed(2)\n",
    "        # Initialize weights for the input layer (3 neurons) and hidden layer (4 neurons)\n",
    "        self.input_weights = 2 * np.random.random((3, 4)) - 1\n",
    "        self.hidden_weights = 2 * np.random.random((4, 1)) - 1\n",
    "\n",
    "    # Create a sigmoid activation function\n",
    "    def _sigmoid(self, x):\n",
    "        return 1 / (1 + np.exp(-x))\n",
    "\n",
    "    def _sigmoid_derivative(self, x):\n",
    "        return x * (1 - x)\n",
    "\n",
    "    def think(self, inputs):\n",
    "        # Calculate output for the hidden layer\n",
    "        hidden_output = self._sigmoid(np.dot(inputs, self.input_weights))\n",
    "        # Calculate final output for the network\n",
    "        final_output = self._sigmoid(np.dot(hidden_output, self.hidden_weights))\n",
    "        return final_output\n",
    "\n",
    "    def train(self, training_set_inputs, training_set_outputs, number_of_training_iterations):\n",
    "        for iteration in range(number_of_training_iterations):\n",
    "            # Forward propagation\n",
    "            hidden_output = self._sigmoid(np.dot(training_set_inputs, self.input_weights))\n",
    "            final_output = self._sigmoid(np.dot(hidden_output, self.hidden_weights))\n",
    "\n",
    "            # Calculate the error\n",
    "            error = training_set_outputs - final_output\n",
    "\n",
    "            # Backpropagation and weight adjustments\n",
    "            hidden_error = error.dot(self.hidden_weights.T) * self._sigmoid_derivative(hidden_output)\n",
    "            self.hidden_weights += hidden_output.T.dot(error * self._sigmoid_derivative(final_output))\n",
    "            self.input_weights += training_set_inputs.T.dot(hidden_error)\n",
    "\n"
   ]
  },
  {
   "cell_type": "markdown",
   "id": "eea86f32",
   "metadata": {},
   "source": [
    "# Initialize the Network"
   ]
  },
  {
   "cell_type": "code",
   "execution_count": 6,
   "id": "ef02b80c",
   "metadata": {},
   "outputs": [
    {
     "name": "stdout",
     "output_type": "stream",
     "text": [
      "Random starting weights:\n",
      "\n",
      "Input Layer Weights:\n",
      " [[-0.1280102  -0.94814754  0.09932496 -0.12935521]\n",
      " [-0.1592644  -0.33933036 -0.59070273  0.23854193]\n",
      " [-0.40069065 -0.46634545  0.24226767  0.05828419]]\n",
      "Hidden Layer Weights:\n",
      " [[-0.73084011]\n",
      " [ 0.02715624]\n",
      " [-0.63112027]\n",
      " [ 0.5706703 ]]\n"
     ]
    }
   ],
   "source": [
    "if __name__ == \"__main__\":\n",
    "    \n",
    "    # Initialize the neural network\n",
    "    neural_network = NeuralNetwork()\n",
    "    \n",
    "    # Print random starting weights\n",
    "    print('Random starting weights:\\n')\n",
    "    print(\"Input Layer Weights:\\n\", neural_network.input_weights)\n",
    "    print(\"Hidden Layer Weights:\\n\", neural_network.hidden_weights)\n",
    "\n",
    "    # here we training data (3 input neurons, 1 output neuron)\n",
    "    training_set_inputs = np.array([[0, 0, 1], [1, 1, 1], [1, 0, 1], [0, 1, 1]])\n",
    "    training_set_outputs = np.array([[0], [1], [1], [0]])"
   ]
  },
  {
   "cell_type": "markdown",
   "id": "487b0006",
   "metadata": {},
   "source": [
    "# Train the Neural Network"
   ]
  },
  {
   "cell_type": "code",
   "execution_count": 11,
   "id": "f90fff78",
   "metadata": {},
   "outputs": [
    {
     "name": "stdout",
     "output_type": "stream",
     "text": [
      "********************* Neural Network Training Phase*********************\n",
      "\n",
      "New weights after training:\n",
      "\n",
      "Input Layer Weights:\n",
      " [[-11.63402986 -10.11016959 -11.29022418  13.07017167]\n",
      " [  0.3809136    0.39239396   0.37238557  -0.37453618]\n",
      " [  5.12780194   4.35528322   4.96037313  -5.85159699]]\n",
      "Hidden Layer Weights:\n",
      " [[-2.83275132]\n",
      " [-1.48929507]\n",
      " [-2.43750544]\n",
      " [ 6.13786504]]\n",
      "\n",
      "Predicted output after training:  [0.99784485]\n"
     ]
    }
   ],
   "source": [
    "# Train the neural network for 10,000 iterations\n",
    "\n",
    "print('********************* Neural Network Training Phase*********************')\n",
    "\n",
    "number_of_training_iterations = 10000\n",
    "neural_network.train(training_set_inputs, training_set_outputs, number_of_training_iterations)\n",
    "\n",
    "# Print updated weights after training\n",
    "print('\\nNew weights after training:\\n')\n",
    "print(\"Input Layer Weights:\\n\", neural_network.input_weights)\n",
    "print(\"Hidden Layer Weights:\\n\", neural_network.hidden_weights)\n",
    "\n",
    "# Test the neural network with a new situation [1, 0, 0]\n",
    "new_input = np.array([1, 0, 0])  # Changing the input values here\n",
    "output = neural_network.think(new_input)\n",
    "print(\"\\nPredicted output after training: \", output)"
   ]
  },
  {
   "cell_type": "code",
   "execution_count": null,
   "id": "45f6bf60",
   "metadata": {},
   "outputs": [],
   "source": []
  }
 ],
 "metadata": {
  "kernelspec": {
   "display_name": "Python 3 (ipykernel)",
   "language": "python",
   "name": "python3"
  },
  "language_info": {
   "codemirror_mode": {
    "name": "ipython",
    "version": 3
   },
   "file_extension": ".py",
   "mimetype": "text/x-python",
   "name": "python",
   "nbconvert_exporter": "python",
   "pygments_lexer": "ipython3",
   "version": "3.11.4"
  }
 },
 "nbformat": 4,
 "nbformat_minor": 5
}
